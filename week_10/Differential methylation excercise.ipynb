{
 "cells": [
  {
   "cell_type": "code",
   "execution_count": 2,
   "metadata": {},
   "outputs": [],
   "source": [
    "import re\n",
    "from Bio import SeqIO\n",
    "\n",
    "reference = SeqIO.parse(open(\"/sbgenomics/project-files/example_human_reference.fasta\"),'fasta')\n",
    "fasta_1 = SeqIO.parse(open(\"/sbgenomics/project-files/example_1.fasta\"),'fasta')\n",
    "fasta_2 = SeqIO.parse(open(\"/sbgenomics/project-files/example_2.fasta\"),'fasta')\n",
    "ref_chromosome = list(reference)[0]\n",
    "f1_chromosome = list(fasta_1)[0]\n",
    "f2_chromosome = list(fasta_2)[0]\n",
    "\n",
    "ref_sequence = str(ref_chromosome.seq)\n",
    "f1_sequence = str(f1_chromosome.seq)\n",
    "f2_sequence = str(f2_chromosome.seq)\n",
    "\n",
    "cg_locations = re.finditer('CG', ref_sequence)\n",
    "cg_starts = [cg.start() for cg in cg_locations]\n"
   ]
  },
  {
   "cell_type": "code",
   "execution_count": 3,
   "metadata": {},
   "outputs": [],
   "source": [
    "# Use cg dinucleotides to locate CpG island(s)\n",
    "# Do these islands also exist in other fastas?\n",
    "# What is happening with CpG sites outside CpG islands?\n",
    "# Does existance of CpG sites in tumor and normal fastas mean that they are methylated or not?"
   ]
  },
  {
   "cell_type": "code",
   "execution_count": null,
   "metadata": {},
   "outputs": [],
   "source": []
  }
 ],
 "metadata": {
  "kernelspec": {
   "display_name": "Python 3",
   "language": "python",
   "name": "python3"
  },
  "language_info": {
   "codemirror_mode": {
    "name": "ipython",
    "version": 3
   },
   "file_extension": ".py",
   "mimetype": "text/x-python",
   "name": "python",
   "nbconvert_exporter": "python",
   "pygments_lexer": "ipython3",
   "version": "3.6.3"
  }
 },
 "nbformat": 4,
 "nbformat_minor": 2
}
